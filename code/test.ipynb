{
 "cells": [
  {
   "cell_type": "markdown",
   "metadata": {},
   "source": [
    "# 003_XML 文档测试\n",
    "> 003_XML_test.py"
   ]
  },
  {
   "cell_type": "code",
   "execution_count": 37,
   "metadata": {},
   "outputs": [],
   "source": [
    "import xml.etree.ElementTree as ET"
   ]
  },
  {
   "cell_type": "code",
   "execution_count": 39,
   "metadata": {},
   "outputs": [],
   "source": [
    "filename = 'country.xml'\n",
    "\n",
    "tree = ET.parse(filename)\n",
    "root = tree.getroot()"
   ]
  },
  {
   "cell_type": "code",
   "execution_count": 40,
   "metadata": {},
   "outputs": [
    {
     "name": "stdout",
     "output_type": "stream",
     "text": [
      "data\n",
      "{}\n",
      "\n",
      "    \n"
     ]
    }
   ],
   "source": [
    "print(root.tag)\n",
    "print(root.attrib)\n",
    "print(root.text)"
   ]
  },
  {
   "cell_type": "code",
   "execution_count": 41,
   "metadata": {},
   "outputs": [
    {
     "name": "stdout",
     "output_type": "stream",
     "text": [
      "<built-in method items of xml.etree.ElementTree.Element object at 0x0000013F0CCD0D18>\n",
      "<built-in method items of xml.etree.ElementTree.Element object at 0x0000013F0CD69C28>\n",
      "<built-in method items of xml.etree.ElementTree.Element object at 0x0000013F0CD69EA8>\n",
      "<built-in method items of xml.etree.ElementTree.Element object at 0x0000013F0CD6D228>\n",
      "<built-in method items of xml.etree.ElementTree.Element object at 0x0000013F0CD6D5E8>\n"
     ]
    }
   ],
   "source": [
    "for child in root:\n",
    "    print(child.items)"
   ]
  },
  {
   "cell_type": "code",
   "execution_count": 42,
   "metadata": {},
   "outputs": [
    {
     "name": "stdout",
     "output_type": "stream",
     "text": [
      "rank : {'updated': 'yes'}\n",
      "year : {}\n",
      "gdppc : {}\n",
      "neighbor : {'name': 'Austria', 'direction': 'E'}\n",
      "neighbor : {'name': 'Switzerland', 'direction': 'W'}\n",
      "rank : {'updated': 'yes'}\n",
      "year : {}\n",
      "gdppc : {}\n",
      "neighbor : {'name': 'Malaysia', 'direction': 'N'}\n",
      "rank : {'updated': 'yes'}\n",
      "year : {}\n",
      "gdppc : {}\n",
      "neighbor : {'name': 'Costa Rica', 'direction': 'W'}\n",
      "neighbor : {'name': 'Colombia', 'direction': 'E'}\n",
      "rank : {'updated': 'yes'}\n",
      "year : {}\n",
      "gdppc : {}\n",
      "neighbor : {'name': 'Rusria', 'direction': 'N'}\n",
      "neighbor : {'name': 'Japan', 'direction': 'E'}\n",
      "country : {'name': 'Taiwan'}\n"
     ]
    }
   ],
   "source": [
    "# 遍历xml文档的第二层\n",
    "for child in root:\n",
    "    for children in child:\n",
    "        # 第三层节点的标签名称和属性\n",
    "        print(children.tag, \":\", children.attrib)\n",
    "        # print(children.tag, \":\", children.attrib,children.text)"
   ]
  },
  {
   "cell_type": "code",
   "execution_count": 43,
   "metadata": {},
   "outputs": [
    {
     "name": "stdout",
     "output_type": "stream",
     "text": [
      "neighbor : {'name': 'Austria', 'direction': 'E'}\n",
      "neighbor : {'name': 'Switzerland', 'direction': 'W'}\n",
      "neighbor : {'name': 'Malaysia', 'direction': 'N'}\n",
      "neighbor : {'name': 'Costa Rica', 'direction': 'W'}\n",
      "neighbor : {'name': 'Colombia', 'direction': 'E'}\n",
      "neighbor : {'name': 'Rusria', 'direction': 'N'}\n",
      "neighbor : {'name': 'Japan', 'direction': 'E'}\n",
      "neighbor : {'name': 'Colombia2', 'direction': 'E2'}\n"
     ]
    }
   ],
   "source": [
    "# 过滤出所有 z直接和间接的子元素 neighbor标签\n",
    "for neighbor in root.iter(\"neighbor\"):\n",
    "    print(neighbor.tag, \":\", neighbor.attrib)"
   ]
  },
  {
   "cell_type": "code",
   "execution_count": 44,
   "metadata": {},
   "outputs": [
    {
     "name": "stdout",
     "output_type": "stream",
     "text": [
      "Liechtenstein 2\n",
      "Singapore 5\n",
      "Panama 69\n",
      "China 1\n"
     ]
    }
   ],
   "source": [
    "for country in root.findall('country'):\n",
    "    rank = country.find('rank').text\n",
    "    name = country.get('name')\n",
    "    print(name, rank)"
   ]
  },
  {
   "cell_type": "code",
   "execution_count": 57,
   "metadata": {},
   "outputs": [
    {
     "name": "stdout",
     "output_type": "stream",
     "text": [
      "None\n"
     ]
    }
   ],
   "source": [
    "print(root.find('rank')) #  只能找直接的子元素"
   ]
  },
  {
   "cell_type": "markdown",
   "metadata": {},
   "source": [
    "# 006_pypinyin模块学习\n",
    "> 006_pypinyin模块学习"
   ]
  },
  {
   "cell_type": "markdown",
   "metadata": {},
   "source": [
    "## pinyin"
   ]
  },
  {
   "cell_type": "code",
   "execution_count": 4,
   "metadata": {},
   "outputs": [
    {
     "name": "stdout",
     "output_type": "stream",
     "text": [
      "<class 'list'>\n",
      "[['zhōng'], ['xīn']]\n"
     ]
    }
   ],
   "source": [
    "from pypinyin import pinyin\n",
    "res = pinyin('中心')\n",
    "print(type(res))\n",
    "print(res)"
   ]
  },
  {
   "cell_type": "code",
   "execution_count": 5,
   "metadata": {},
   "outputs": [
    {
     "name": "stdout",
     "output_type": "stream",
     "text": [
      "[['zhāo'], ['yáng']]\n"
     ]
    }
   ],
   "source": [
    "from pypinyin import pinyin\n",
    "print(pinyin('朝阳'))"
   ]
  },
  {
   "cell_type": "code",
   "execution_count": 2,
   "metadata": {},
   "outputs": [
    {
     "name": "stdout",
     "output_type": "stream",
     "text": [
      "['zhāo', 'yáng']\n"
     ]
    }
   ],
   "source": [
    "# 用一行代码将结果展开也可以\n",
    "from pypinyin import pinyin\n",
    "res = pinyin('朝阳')\n",
    "\n",
    "flattened_res = [item for sublist in res for item in sublist]\n",
    "print(flattened_res)"
   ]
  },
  {
   "cell_type": "code",
   "execution_count": 6,
   "metadata": {},
   "outputs": [
    {
     "name": "stdout",
     "output_type": "stream",
     "text": [
      "[['zhāo', 'cháo'], ['yáng']]\n"
     ]
    }
   ],
   "source": [
    "from pypinyin import pinyin\n",
    "print(pinyin('朝阳', heteronym=True))"
   ]
  },
  {
   "cell_type": "code",
   "execution_count": 7,
   "metadata": {},
   "outputs": [
    {
     "name": "stdout",
     "output_type": "stream",
     "text": [
      "['cong', 'ming', 'de', 'xiao', 'tu', 'zi']\n"
     ]
    }
   ],
   "source": [
    "from pypinyin import pinyin, Style\n",
    "res = pinyin('聪明的小兔子', style=Style.NORMAL)\n",
    "flattened_list = [item for sublist in res for item in sublist]\n",
    "print(flattened_list)"
   ]
  },
  {
   "cell_type": "code",
   "execution_count": 4,
   "metadata": {},
   "outputs": [
    {
     "name": "stdout",
     "output_type": "stream",
     "text": [
      "[1, 2, 3, 4, 5, 6, 7, 8, 9]\n"
     ]
    }
   ],
   "source": [
    "l = [[1, 2, 3], [4, 5], [6], [7, 8], [9]]\n",
    "flattened_list = [item for sublist in l for item in sublist]\n",
    "print(flattened_list)"
   ]
  },
  {
   "cell_type": "markdown",
   "metadata": {},
   "source": [
    "##　lazy_pinyin"
   ]
  },
  {
   "cell_type": "code",
   "execution_count": 8,
   "metadata": {},
   "outputs": [
    {
     "name": "stdout",
     "output_type": "stream",
     "text": [
      "['cong', 'ming', 'de', 'xiao', 'tu', 'zi']\n"
     ]
    }
   ],
   "source": [
    "from pypinyin import lazy_pinyin)\n",
    "print(lazy_pinyin('聪明的小兔子'))"
   ]
  },
  {
   "cell_type": "code",
   "execution_count": 25,
   "metadata": {},
   "outputs": [
    {
     "name": "stdout",
     "output_type": "stream",
     "text": [
      "['cong', 'ming', 'de', 'xiao', 'tu', 'zi']\n",
      "cong_ming_de_xiao_tu_zi\n"
     ]
    }
   ],
   "source": [
    "res = lazy_pinyin('聪明的小兔子')\n",
    "print(res)\n",
    "from functools import reduce\n",
    "a = reduce(lambda x,y: x+'_'+y ,res  )\n",
    "print(a)"
   ]
  },
  {
   "cell_type": "code",
   "execution_count": 26,
   "metadata": {},
   "outputs": [
    {
     "data": {
      "text/plain": [
       "<map at 0x2c7cb5cf548>"
      ]
     },
     "execution_count": 26,
     "metadata": {},
     "output_type": "execute_result"
    }
   ],
   "source": [
    "map(lambda x,y: x+'_'+y ,res  )"
   ]
  },
  {
   "cell_type": "code",
   "execution_count": 30,
   "metadata": {},
   "outputs": [
    {
     "name": "stdout",
     "output_type": "stream",
     "text": [
      "['ong', 'ing', 'e', 'iao', 'u', 'i']\n"
     ]
    }
   ],
   "source": [
    "from pypinyin import lazy_pinyin, Style\n",
    "style = Style.FINALS\n",
    "print(lazy_pinyin('聪明的小兔子', style=style))"
   ]
  },
  {
   "cell_type": "code",
   "execution_count": 31,
   "metadata": {},
   "outputs": [
    {
     "name": "stdout",
     "output_type": "stream",
     "text": [
      "['ni', 'hao', '☆☆，', 'wo', 'shi', 'xxx']\n"
     ]
    }
   ],
   "source": [
    "from pypinyin import lazy_pinyin\n",
    "print(lazy_pinyin('你好☆☆，我是xxx'))"
   ]
  },
  {
   "cell_type": "code",
   "execution_count": 34,
   "metadata": {},
   "outputs": [
    {
     "name": "stdout",
     "output_type": "stream",
     "text": [
      "['ni', 'hao', 'wo', 'shi']\n"
     ]
    }
   ],
   "source": [
    "from pypinyin import lazy_pinyin\n",
    "print(lazy_pinyin('你好☆☆，我是xxx', errors='ignore'))"
   ]
  },
  {
   "cell_type": "code",
   "execution_count": 32,
   "metadata": {},
   "outputs": [
    {
     "name": "stdout",
     "output_type": "stream",
     "text": [
      "['ni', 'hao', '※※，', 'wo', 'shi', 'xxx']\n"
     ]
    }
   ],
   "source": [
    "print(lazy_pinyin('你好☆☆，我是xxx', errors=lambda item: ''.join(['※' if c == '☆' else c for c in item])  ))"
   ]
  },
  {
   "cell_type": "code",
   "execution_count": 36,
   "metadata": {},
   "outputs": [
    {
     "name": "stdout",
     "output_type": "stream",
     "text": [
      "['chao', 'yang']\n",
      "['chao', 'yang']\n"
     ]
    }
   ],
   "source": [
    "from pypinyin import lazy_pinyin, load_phrases_dict\n",
    "print(lazy_pinyin('朝阳'))\n",
    "personalized_dict = {\n",
    "    '朝阳': [['cháo'], ['yáng']]\n",
    "}\n",
    "load_phrases_dict(personalized_dict)\n",
    "print(lazy_pinyin('朝阳'))"
   ]
  },
  {
   "cell_type": "code",
   "execution_count": 46,
   "metadata": {},
   "outputs": [
    {
     "data": {
      "text/plain": [
       "['😘 me', '😘 me', '😘 dá']"
      ]
     },
     "execution_count": 46,
     "metadata": {},
     "output_type": "execute_result"
    }
   ],
   "source": [
    "from pypinyin import lazy_pinyin\n",
    "from pypinyin.style import register\n",
    "\n",
    "@register('kiss')\n",
    "def kiss(pinyin, **kwargs):\n",
    "    return '😘 {0}'.format(pinyin)\n",
    "\n",
    "lazy_pinyin('么么哒', style='kiss')"
   ]
  },
  {
   "cell_type": "code",
   "execution_count": 43,
   "metadata": {},
   "outputs": [
    {
     "data": {
      "text/plain": [
       "['😘 me', '😘 me']"
      ]
     },
     "execution_count": 43,
     "metadata": {},
     "output_type": "execute_result"
    }
   ],
   "source": [
    "from pypinyin import lazy_pinyin\n",
    "from pypinyin.style import register\n",
    "\n",
    "@register('kiss')\n",
    "def kiss(pinyin, **kwargs):\n",
    "    return '😘 {0}'.format(pinyin)\n",
    "\n",
    "lazy_pinyin('么么', style='kiss')\n"
   ]
  },
  {
   "cell_type": "code",
   "execution_count": null,
   "metadata": {},
   "outputs": [],
   "source": []
  }
 ],
 "metadata": {
  "interpreter": {
   "hash": "1b1850876ec55b45c9a1c1035a06154690cb4ebe2ee957fd61775ebe0ee87b9d"
  },
  "kernelspec": {
   "display_name": "Python 3.7.9 64-bit",
   "language": "python",
   "name": "python3"
  },
  "language_info": {
   "codemirror_mode": {
    "name": "ipython",
    "version": 3
   },
   "file_extension": ".py",
   "mimetype": "text/x-python",
   "name": "python",
   "nbconvert_exporter": "python",
   "pygments_lexer": "ipython3",
   "version": "3.7.9"
  },
  "orig_nbformat": 4
 },
 "nbformat": 4,
 "nbformat_minor": 2
}
