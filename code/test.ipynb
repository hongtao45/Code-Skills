{
 "cells": [
  {
   "cell_type": "markdown",
   "metadata": {},
   "source": [
    "# XML 文档测试"
   ]
  },
  {
   "cell_type": "code",
   "execution_count": 37,
   "metadata": {},
   "outputs": [],
   "source": [
    "import xml.etree.ElementTree as ET"
   ]
  },
  {
   "cell_type": "code",
   "execution_count": 39,
   "metadata": {},
   "outputs": [],
   "source": [
    "filename = 'country.xml'\n",
    "\n",
    "tree = ET.parse(filename)\n",
    "root = tree.getroot()"
   ]
  },
  {
   "cell_type": "code",
   "execution_count": 40,
   "metadata": {},
   "outputs": [
    {
     "name": "stdout",
     "output_type": "stream",
     "text": [
      "data\n",
      "{}\n",
      "\n",
      "    \n"
     ]
    }
   ],
   "source": [
    "print(root.tag)\n",
    "print(root.attrib)\n",
    "print(root.text)"
   ]
  },
  {
   "cell_type": "code",
   "execution_count": 41,
   "metadata": {},
   "outputs": [
    {
     "name": "stdout",
     "output_type": "stream",
     "text": [
      "<built-in method items of xml.etree.ElementTree.Element object at 0x0000013F0CCD0D18>\n",
      "<built-in method items of xml.etree.ElementTree.Element object at 0x0000013F0CD69C28>\n",
      "<built-in method items of xml.etree.ElementTree.Element object at 0x0000013F0CD69EA8>\n",
      "<built-in method items of xml.etree.ElementTree.Element object at 0x0000013F0CD6D228>\n",
      "<built-in method items of xml.etree.ElementTree.Element object at 0x0000013F0CD6D5E8>\n"
     ]
    }
   ],
   "source": [
    "for child in root:\n",
    "    print(child.items)"
   ]
  },
  {
   "cell_type": "code",
   "execution_count": 42,
   "metadata": {},
   "outputs": [
    {
     "name": "stdout",
     "output_type": "stream",
     "text": [
      "rank : {'updated': 'yes'}\n",
      "year : {}\n",
      "gdppc : {}\n",
      "neighbor : {'name': 'Austria', 'direction': 'E'}\n",
      "neighbor : {'name': 'Switzerland', 'direction': 'W'}\n",
      "rank : {'updated': 'yes'}\n",
      "year : {}\n",
      "gdppc : {}\n",
      "neighbor : {'name': 'Malaysia', 'direction': 'N'}\n",
      "rank : {'updated': 'yes'}\n",
      "year : {}\n",
      "gdppc : {}\n",
      "neighbor : {'name': 'Costa Rica', 'direction': 'W'}\n",
      "neighbor : {'name': 'Colombia', 'direction': 'E'}\n",
      "rank : {'updated': 'yes'}\n",
      "year : {}\n",
      "gdppc : {}\n",
      "neighbor : {'name': 'Rusria', 'direction': 'N'}\n",
      "neighbor : {'name': 'Japan', 'direction': 'E'}\n",
      "country : {'name': 'Taiwan'}\n"
     ]
    }
   ],
   "source": [
    "# 遍历xml文档的第二层\n",
    "for child in root:\n",
    "    for children in child:\n",
    "        # 第三层节点的标签名称和属性\n",
    "        print(children.tag, \":\", children.attrib)\n",
    "        # print(children.tag, \":\", children.attrib,children.text)"
   ]
  },
  {
   "cell_type": "code",
   "execution_count": 43,
   "metadata": {},
   "outputs": [
    {
     "name": "stdout",
     "output_type": "stream",
     "text": [
      "neighbor : {'name': 'Austria', 'direction': 'E'}\n",
      "neighbor : {'name': 'Switzerland', 'direction': 'W'}\n",
      "neighbor : {'name': 'Malaysia', 'direction': 'N'}\n",
      "neighbor : {'name': 'Costa Rica', 'direction': 'W'}\n",
      "neighbor : {'name': 'Colombia', 'direction': 'E'}\n",
      "neighbor : {'name': 'Rusria', 'direction': 'N'}\n",
      "neighbor : {'name': 'Japan', 'direction': 'E'}\n",
      "neighbor : {'name': 'Colombia2', 'direction': 'E2'}\n"
     ]
    }
   ],
   "source": [
    "# 过滤出所有 z直接和间接的子元素 neighbor标签\n",
    "for neighbor in root.iter(\"neighbor\"):\n",
    "    print(neighbor.tag, \":\", neighbor.attrib)"
   ]
  },
  {
   "cell_type": "code",
   "execution_count": 44,
   "metadata": {},
   "outputs": [
    {
     "name": "stdout",
     "output_type": "stream",
     "text": [
      "Liechtenstein 2\n",
      "Singapore 5\n",
      "Panama 69\n",
      "China 1\n"
     ]
    }
   ],
   "source": [
    "for country in root.findall('country'):\n",
    "    rank = country.find('rank').text\n",
    "    name = country.get('name')\n",
    "    print(name, rank)"
   ]
  },
  {
   "cell_type": "code",
   "execution_count": 57,
   "metadata": {},
   "outputs": [
    {
     "name": "stdout",
     "output_type": "stream",
     "text": [
      "None\n"
     ]
    }
   ],
   "source": [
    "print(root.find('rank')) #  只能找直接的子元素"
   ]
  },
  {
   "cell_type": "code",
   "execution_count": null,
   "metadata": {},
   "outputs": [],
   "source": []
  }
 ],
 "metadata": {
  "interpreter": {
   "hash": "1b1850876ec55b45c9a1c1035a06154690cb4ebe2ee957fd61775ebe0ee87b9d"
  },
  "kernelspec": {
   "display_name": "Python 3.7.9 64-bit",
   "language": "python",
   "name": "python3"
  },
  "language_info": {
   "codemirror_mode": {
    "name": "ipython",
    "version": 3
   },
   "file_extension": ".py",
   "mimetype": "text/x-python",
   "name": "python",
   "nbconvert_exporter": "python",
   "pygments_lexer": "ipython3",
   "version": "3.7.9"
  },
  "orig_nbformat": 4
 },
 "nbformat": 4,
 "nbformat_minor": 2
}
